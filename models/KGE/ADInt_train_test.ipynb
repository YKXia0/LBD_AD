{
 "cells": [
  {
   "cell_type": "code",
   "execution_count": null,
   "metadata": {
    "colab": {
     "base_uri": "https://localhost:8080/"
    },
    "executionInfo": {
     "elapsed": 26669,
     "status": "ok",
     "timestamp": 1680025336598,
     "user": {
      "displayName": "Yongkang Xiao",
      "userId": "16113109655826712052"
     },
     "user_tz": 300
    },
    "id": "1pT-Qui5hpSb",
    "outputId": "98265559-65d1-4acc-9e43-9acd9f9be3b6"
   },
   "outputs": [],
   "source": [
    "!pip install dgl\n",
    "# !pip install dgl==0.4.3.post2\n",
    "!pip install ogb\n",
    "!git clone https://github.com/awslabs/dgl-ke.git\n",
    "%cd dgl-ke/python\n",
    "!python setup.py install\n",
    "\n",
    "# !pip install dgl==0.4.3\n",
    "# !pip install dglke"
   ]
  },
  {
   "cell_type": "code",
   "execution_count": null,
   "metadata": {
    "id": "wwMgYFJiVFhh"
   },
   "outputs": [],
   "source": [
    "import pandas as pd"
   ]
  },
  {
   "cell_type": "code",
   "execution_count": null,
   "metadata": {
    "colab": {
     "base_uri": "https://localhost:8080/"
    },
    "executionInfo": {
     "elapsed": 19164,
     "status": "ok",
     "timestamp": 1674285545086,
     "user": {
      "displayName": "Xiao Yongkang",
      "userId": "12452017724071314522"
     },
     "user_tz": 360
    },
    "id": "l5p5p2FrUXj_",
    "outputId": "4b4056bb-44f3-42bb-904d-7980985b4557"
   },
   "outputs": [],
   "source": [
    "from google.colab import drive\n",
    "drive.mount('/content/drive')"
   ]
  },
  {
   "cell_type": "code",
   "execution_count": null,
   "metadata": {
    "id": "xm1ihhgUUXs_"
   },
   "outputs": [],
   "source": [
    "# load the dataset\n",
    "from pathlib import Path\n",
    "suppkg = Path(\"/content/drive/Shareddrives/KG Project/Data/ADintervKG/20230118/graph.tsv\")"
   ]
  },
  {
   "cell_type": "markdown",
   "metadata": {
    "id": "oE48b_aXULzw"
   },
   "source": [
    "### 0. Time Slicing"
   ]
  },
  {
   "cell_type": "code",
   "execution_count": null,
   "metadata": {
    "id": "_LVfFyhNUKdI"
   },
   "outputs": [],
   "source": [
    "dfTriple = pd.read_csv(suppkg, sep='\\t')"
   ]
  },
  {
   "cell_type": "code",
   "execution_count": null,
   "metadata": {
    "id": "lEapdIN-SJcQ"
   },
   "outputs": [],
   "source": [
    "dfTriple.sort_values(\"PMID\", ascending=True, inplace=True, ignore_index=True)"
   ]
  },
  {
   "cell_type": "code",
   "execution_count": null,
   "metadata": {
    "colab": {
     "base_uri": "https://localhost:8080/"
    },
    "executionInfo": {
     "elapsed": 346,
     "status": "ok",
     "timestamp": 1674285803398,
     "user": {
      "displayName": "Xiao Yongkang",
      "userId": "12452017724071314522"
     },
     "user_tz": 360
    },
    "id": "7bzm-0oiW52C",
    "outputId": "5f912cb3-3909-4081-bc2d-b756ee105105"
   },
   "outputs": [],
   "source": [
    "# Split data into training, test and valid datasets (Time slicing).\n",
    "# train:valid:test = 8:1:1\n",
    "\n",
    "from sklearn.model_selection import train_test_split\n",
    "\n",
    "trainDF, validDF = train_test_split(dfTriple, test_size=0.2, shuffle=False)\n",
    "\n",
    "validDF, testDF = train_test_split(validDF, test_size=0.5, shuffle=False)\n",
    "\n",
    "trainDF.shape, validDF.shape, testDF.shape"
   ]
  },
  {
   "cell_type": "code",
   "execution_count": null,
   "metadata": {
    "id": "rAAFwAcyZHQ6"
   },
   "outputs": [],
   "source": [
    "trainDF.to_csv(Path(\"/content/drive/Shareddrives/KG Project/KG Embedding (dgl-ke)\"+\"/data7/train/train.txt\"), header = None, index = None, sep = \"\\t\")"
   ]
  },
  {
   "cell_type": "code",
   "execution_count": null,
   "metadata": {
    "id": "pDXoYQF-xJUp"
   },
   "outputs": [],
   "source": [
    "validDF.to_csv(Path(\"/content/drive/Shareddrives/KG Project/KG Embedding (dgl-ke)\"+\"/data7/train/valid.txt\"), header = None, index = None, sep = \"\\t\")"
   ]
  },
  {
   "cell_type": "code",
   "execution_count": null,
   "metadata": {
    "id": "0JsbihpNZT4q"
   },
   "outputs": [],
   "source": [
    "testDF.to_csv(Path(\"/content/drive/Shareddrives/KG Project/KG Embedding (dgl-ke)\"+\"/data7/train/test.txt\"), header = None, index = None, sep = \"\\t\")"
   ]
  },
  {
   "cell_type": "markdown",
   "metadata": {
    "id": "rNw9EZ3Arq-T"
   },
   "source": [
    "### 1. TransE"
   ]
  },
  {
   "cell_type": "code",
   "execution_count": null,
   "metadata": {
    "colab": {
     "base_uri": "https://localhost:8080/"
    },
    "executionInfo": {
     "elapsed": 1294546,
     "status": "ok",
     "timestamp": 1674242350494,
     "user": {
      "displayName": "Xiao Yongkang",
      "userId": "12452017724071314522"
     },
     "user_tz": 360
    },
    "id": "zX_nF5CCHf1P",
    "outputId": "e8f3c554-4798-4f09-ad9f-c1db60724bef"
   },
   "outputs": [],
   "source": [
    "# Train\n",
    "%%time\n",
    "!DGLBACKEND=pytorch dglke_train --dataset ADintervKG --model_name TransE_l2 --batch_size 1000 \\\n",
    "--neg_sample_size 20 --hidden_dim 1000 --gamma 19.9 --lr 0.001 --max_step 80000 --log_interval 1000 \\\n",
    "--batch_size_eval 100 -adv --regularization_coef 1.00E-09 --test --gpu 0 --mix_cpu_gpu  --save_path \"/content/drive/Shareddrives/KG Project/KG Embedding (dgl-ke)/data/results\" \\\n",
    "--data_path \"/content/drive/Shareddrives/KG Project/KG Embedding (dgl-ke)/data/train\" --format raw_udd_hrt --data_files train.txt valid.txt test.txt --neg_sample_size_eval 20 "
   ]
  },
  {
   "cell_type": "code",
   "execution_count": null,
   "metadata": {
    "colab": {
     "base_uri": "https://localhost:8080/"
    },
    "executionInfo": {
     "elapsed": 44225,
     "status": "ok",
     "timestamp": 1673830757095,
     "user": {
      "displayName": "Xiao Yongkang",
      "userId": "12452017724071314522"
     },
     "user_tz": 360
    },
    "id": "HAjEGsuppMYn",
    "outputId": "f66027d3-6dac-419b-d1f1-a0f7445c4d38"
   },
   "outputs": [],
   "source": [
    "# Evaluate\n",
    "%%time\n",
    "!DGLBACKEND=pytorch dglke_eval --dataset ADintervKG --model_name TransE_l2 \\\n",
    "--neg_sample_size 20 --hidden_dim 400 --gamma 19.9 \\\n",
    "--batch_size_eval 100 --gpu 0 --model_path \"/content/drive/Shareddrives/KG Project/KG Embedding (dgl-ke)/data/results/TransE_l2_ADintervKG_0/\" \\\n",
    "--data_path \"/content/drive/Shareddrives/KG Project/KG Embedding (dgl-ke)/data/train\" --format raw_udd_hrt --data_files train.txt valid.txt test.txt --neg_sample_size_eval 20"
   ]
  },
  {
   "cell_type": "markdown",
   "metadata": {
    "id": "ydoC6VyK60QV"
   },
   "source": [
    "### 2. DistMult"
   ]
  },
  {
   "cell_type": "code",
   "execution_count": null,
   "metadata": {
    "colab": {
     "base_uri": "https://localhost:8080/"
    },
    "executionInfo": {
     "elapsed": 2497852,
     "status": "ok",
     "timestamp": 1674244848342,
     "user": {
      "displayName": "Xiao Yongkang",
      "userId": "12452017724071314522"
     },
     "user_tz": 360
    },
    "id": "G25d6fON8Ume",
    "outputId": "9c9466be-3af0-41b0-9873-1db1cd0a1c8d"
   },
   "outputs": [],
   "source": [
    "# Train\n",
    "%%time\n",
    "!DGLBACKEND=pytorch dglke_train --dataset ADintervKG --model_name DistMult --batch_size 1000 \\\n",
    "--neg_sample_size 20 --hidden_dim 1000 --gamma 19.9 --lr 0.001 --max_step 160000 --log_interval 1000 \\\n",
    "--batch_size_eval 100 -adv --regularization_coef 1.00E-09 --test --gpu 0 --mix_cpu_gpu  --save_path \"/content/drive/Shareddrives/KG Project/KG Embedding (dgl-ke)/dat7/results\" \\\n",
    "--data_path \"/content/drive/Shareddrives/KG Project/KG Embedding (dgl-ke)/data/train\" --format raw_udd_hrt --data_files train.txt valid.txt test.txt --neg_sample_size_eval 20 "
   ]
  },
  {
   "cell_type": "code",
   "execution_count": null,
   "metadata": {
    "colab": {
     "base_uri": "https://localhost:8080/"
    },
    "executionInfo": {
     "elapsed": 42441,
     "status": "ok",
     "timestamp": 1673831787197,
     "user": {
      "displayName": "Xiao Yongkang",
      "userId": "12452017724071314522"
     },
     "user_tz": 360
    },
    "id": "WvAQoGgq8Uo2",
    "outputId": "7da96725-c282-495c-fa71-18b318c3cde2"
   },
   "outputs": [],
   "source": [
    "# Evaluate\n",
    "%%time\n",
    "!DGLBACKEND=pytorch dglke_eval --dataset ADintervKG --model_name DistMult \\\n",
    "--neg_sample_size 20 --hidden_dim 400 --gamma 19.9 \\\n",
    "--batch_size_eval 100 --gpu 0 --model_path \"/content/drive/Shareddrives/KG Project/KG Embedding (dgl-ke)/data/results/DistMult_ADintervKG_0/\" \\\n",
    "--data_path \"/content/drive/Shareddrives/KG Project/KG Embedding (dgl-ke)/data/train\" --format raw_udd_hrt --data_files train.txt valid.txt test.txt --neg_sample_size_eval 20"
   ]
  },
  {
   "cell_type": "markdown",
   "metadata": {
    "id": "Yf5dNWIf60W0"
   },
   "source": [
    "### 3. ComplEx"
   ]
  },
  {
   "cell_type": "code",
   "execution_count": null,
   "metadata": {
    "colab": {
     "base_uri": "https://localhost:8080/"
    },
    "executionInfo": {
     "elapsed": 2623227,
     "status": "ok",
     "timestamp": 1674247471566,
     "user": {
      "displayName": "Xiao Yongkang",
      "userId": "12452017724071314522"
     },
     "user_tz": 360
    },
    "id": "3Tu-bZaz8VF-",
    "outputId": "6b6ba08b-466f-46fd-a875-294cf6cdbbbe"
   },
   "outputs": [],
   "source": [
    "# Train\n",
    "%%time\n",
    "!DGLBACKEND=pytorch dglke_train --dataset ADintervKG --model_name ComplEx --batch_size 1000 \\\n",
    "--neg_sample_size 20 --hidden_dim 1000 --gamma 19.9 --lr 0.001 --max_step 160000 --log_interval 1000 \\\n",
    "--batch_size_eval 100 -adv --regularization_coef 1.00E-09 --test --gpu 0 --mix_cpu_gpu  --save_path \"/content/drive/Shareddrives/KG Project/KG Embedding (dgl-ke)/data/results\" \\\n",
    "--data_path \"/content/drive/Shareddrives/KG Project/KG Embedding (dgl-ke)/data/train\" --format raw_udd_hrt --data_files train.txt valid.txt test.txt --neg_sample_size_eval 20 "
   ]
  },
  {
   "cell_type": "code",
   "execution_count": null,
   "metadata": {
    "colab": {
     "base_uri": "https://localhost:8080/"
    },
    "executionInfo": {
     "elapsed": 43201,
     "status": "ok",
     "timestamp": 1673832936665,
     "user": {
      "displayName": "Xiao Yongkang",
      "userId": "12452017724071314522"
     },
     "user_tz": 360
    },
    "id": "KdA9T8FH8VH5",
    "outputId": "fab9980c-2efe-431d-cb46-ebd903140cb8"
   },
   "outputs": [],
   "source": [
    "# Evaluate\n",
    "%%time\n",
    "!DGLBACKEND=pytorch dglke_eval --dataset ADintervKG --model_name ComplEx \\\n",
    "--neg_sample_size 20 --hidden_dim 400 --gamma 19.9 \\\n",
    "--batch_size_eval 100 --gpu 0 --model_path \"/content/drive/Shareddrives/KG Project/KG Embedding (dgl-ke)/data/results/ComplEx_ADintervKG_0/\" \\\n",
    "--data_path \"/content/drive/Shareddrives/KG Project/KG Embedding (dgl-ke)/data/train\" --format raw_udd_hrt --data_files train.txt valid.txt test.txt --neg_sample_size_eval 20"
   ]
  },
  {
   "cell_type": "markdown",
   "metadata": {
    "id": "XO70Fif760ZE"
   },
   "source": [
    "### 4. RotatE"
   ]
  },
  {
   "cell_type": "code",
   "execution_count": null,
   "metadata": {
    "colab": {
     "base_uri": "https://localhost:8080/"
    },
    "executionInfo": {
     "elapsed": 7565695,
     "status": "ok",
     "timestamp": 1674255037258,
     "user": {
      "displayName": "Xiao Yongkang",
      "userId": "12452017724071314522"
     },
     "user_tz": 360
    },
    "id": "LeYqMUGH8Vbl",
    "outputId": "abc3643d-1dab-4b40-d6b5-04bc03cd51f4"
   },
   "outputs": [],
   "source": [
    "# Train\n",
    "%%time\n",
    "!DGLBACKEND=pytorch dglke_train --dataset ADintervKG --model_name RotatE --batch_size 1000 \\\n",
    "--neg_sample_size 20 -de --hidden_dim 1000 --gamma 19.9 --lr 0.001 --max_step 160000 --log_interval 1000 \\\n",
    "--batch_size_eval 100 -adv --regularization_coef 1.00E-09 --test --gpu 0 --mix_cpu_gpu  --save_path \"/content/drive/Shareddrives/KG Project/KG Embedding (dgl-ke)/data/results\" \\\n",
    "--data_path \"/content/drive/Shareddrives/KG Project/KG Embedding (dgl-ke)/data/train\" --format raw_udd_hrt --data_files train.txt valid.txt test.txt --neg_sample_size_eval 20 -g 5"
   ]
  },
  {
   "cell_type": "code",
   "execution_count": null,
   "metadata": {
    "colab": {
     "base_uri": "https://localhost:8080/"
    },
    "executionInfo": {
     "elapsed": 2856,
     "status": "ok",
     "timestamp": 1674285687541,
     "user": {
      "displayName": "Xiao Yongkang",
      "userId": "12452017724071314522"
     },
     "user_tz": 360
    },
    "id": "IHNFpxjNEpdZ",
    "outputId": "b5615343-42e9-4999-d17b-bfcde3c4be7a"
   },
   "outputs": [],
   "source": [
    "# Train\n",
    "%%time\n",
    "!DGLBACKEND=pytorch dglke_train --dataset ADintervKG --model_name DistMult --batch_size 1000 \\\n",
    "--neg_sample_size 20 --hidden_dim 1000 --gamma 19.9 --lr 0.001 --max_step 160000 --log_interval 1000 \\\n",
    "--batch_size_eval 100 -adv --regularization_coef 1.00E-09 --test --gpu 0 --mix_cpu_gpu  --save_path \"/content/drive/Shareddrives/KG Project/KG Embedding (dgl-ke)/data/results\" \\\n",
    "--data_path \"/content/drive/Shareddrives/KG Project/KG Embedding (dgl-ke)/data/train\" --format raw_udd_hrt --data_files train.txt valid.txt test.txt --neg_sample_size_eval 20 "
   ]
  },
  {
   "cell_type": "code",
   "execution_count": null,
   "metadata": {
    "colab": {
     "base_uri": "https://localhost:8080/"
    },
    "executionInfo": {
     "elapsed": 1456257,
     "status": "ok",
     "timestamp": 1673863840185,
     "user": {
      "displayName": "Xiao Yongkang",
      "userId": "12452017724071314522"
     },
     "user_tz": 360
    },
    "id": "fX4TnS2KhKPx",
    "outputId": "863dfce6-539e-4e4b-97e7-883db0597064"
   },
   "outputs": [],
   "source": [
    "# Train\n",
    "%%time\n",
    "!DGLBACKEND=pytorch dglke_train --dataset ADintervKG --model_name DistMult --batch_size 1000 \\\n",
    "--neg_sample_size 20 --hidden_dim 1000 --gamma 19.9 --lr 0.001 --max_step 80000 --log_interval 1000 \\\n",
    "--batch_size_eval 100 -adv --regularization_coef 1.00E-09 --test --gpu 0 --mix_cpu_gpu  --save_path \"/content/drive/Shareddrives/KG Project/KG Embedding (dgl-ke)/data6/results\" \\\n",
    "--data_path \"/content/drive/Shareddrives/KG Project/KG Embedding (dgl-ke)/data6/train\" --format raw_udd_hrt --data_files train.txt valid.txt test.txt --neg_sample_size_eval 20 "
   ]
  }
 ],
 "metadata": {
  "accelerator": "GPU",
  "colab": {
   "provenance": []
  },
  "gpuClass": "standard",
  "kernelspec": {
   "display_name": "Python 3",
   "language": "python",
   "name": "python3"
  },
  "language_info": {
   "codemirror_mode": {
    "name": "ipython",
    "version": 3
   },
   "file_extension": ".py",
   "mimetype": "text/x-python",
   "name": "python",
   "nbconvert_exporter": "python",
   "pygments_lexer": "ipython3",
   "version": "3.9.1"
  }
 },
 "nbformat": 4,
 "nbformat_minor": 1
}
