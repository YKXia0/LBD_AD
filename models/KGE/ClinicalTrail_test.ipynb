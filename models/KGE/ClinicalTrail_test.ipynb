{
 "cells": [
  {
   "cell_type": "code",
   "execution_count": null,
   "metadata": {
    "colab": {
     "base_uri": "https://localhost:8080/",
     "height": 1000
    },
    "executionInfo": {
     "elapsed": 21810,
     "status": "ok",
     "timestamp": 1674286435614,
     "user": {
      "displayName": "Xiao Yongkang",
      "userId": "12452017724071314522"
     },
     "user_tz": 360
    },
    "id": "929uleuOcmhF",
    "outputId": "7b1b7643-e8c7-4b42-8fd7-4f25028fe43c"
   },
   "outputs": [],
   "source": [
    "!pip install dgl\n",
    "# !pip install dgl==0.4.3.post2\n",
    "!pip install ogb\n",
    "!git clone https://github.com/awslabs/dgl-ke.git\n",
    "%cd dgl-ke/python\n",
    "!python setup.py install\n",
    "\n",
    "# !pip install dgl==0.4.3\n",
    "# !pip install dglke"
   ]
  },
  {
   "cell_type": "code",
   "execution_count": null,
   "metadata": {
    "executionInfo": {
     "elapsed": 1017,
     "status": "ok",
     "timestamp": 1674286436628,
     "user": {
      "displayName": "Xiao Yongkang",
      "userId": "12452017724071314522"
     },
     "user_tz": 360
    },
    "id": "X8hsNDzFZPJ9"
   },
   "outputs": [],
   "source": [
    "import pandas as pd\n",
    "from pathlib import Path"
   ]
  },
  {
   "cell_type": "code",
   "execution_count": null,
   "metadata": {
    "colab": {
     "base_uri": "https://localhost:8080/"
    },
    "executionInfo": {
     "elapsed": 24293,
     "status": "ok",
     "timestamp": 1674286465137,
     "user": {
      "displayName": "Xiao Yongkang",
      "userId": "12452017724071314522"
     },
     "user_tz": 360
    },
    "id": "o_CUiL0KZPML",
    "outputId": "7ba243f8-4ec0-43bf-e01e-ce0116af5118"
   },
   "outputs": [],
   "source": [
    "from google.colab import drive\n",
    "drive.mount('/content/drive')"
   ]
  },
  {
   "cell_type": "code",
   "execution_count": null,
   "metadata": {
    "executionInfo": {
     "elapsed": 306,
     "status": "ok",
     "timestamp": 1674286469460,
     "user": {
      "displayName": "Xiao Yongkang",
      "userId": "12452017724071314522"
     },
     "user_tz": 360
    },
    "id": "7sUsiyR5Zj6t"
   },
   "outputs": [],
   "source": [
    "suppkg = Path(\"/content/drive/Shareddrives/KG Project/Data/ADintervKG/20230118/graph.tsv\")"
   ]
  },
  {
   "cell_type": "markdown",
   "metadata": {
    "id": "MllyllqnZlat"
   },
   "source": [
    "## 1. TransE"
   ]
  },
  {
   "cell_type": "code",
   "execution_count": null,
   "metadata": {
    "colab": {
     "base_uri": "https://localhost:8080/"
    },
    "executionInfo": {
     "elapsed": 10137,
     "status": "ok",
     "timestamp": 1674286759910,
     "user": {
      "displayName": "Xiao Yongkang",
      "userId": "12452017724071314522"
     },
     "user_tz": 360
    },
    "id": "WvjTkg0QZ77k",
    "outputId": "91220c60-e374-4828-c52c-8c905bcc65ff"
   },
   "outputs": [],
   "source": [
    "# Evaluate\n",
    "%%time\n",
    "!DGLBACKEND=pytorch dglke_eval --dataset ADintervKG --model_name TransE_l2 \\\n",
    "--neg_sample_size 20 --hidden_dim 400 --gamma 19.9 \\\n",
    "--batch_size_eval 100 --gpu 0 --model_path \"/content/drive/Shareddrives/KG Project/KG Embedding (dgl-ke)/data/results/TransE_l2_ADintervKG_1/\" \\\n",
    "--data_path \"/content/drive/Shareddrives/KG Project/KG Embedding (dgl-ke)/clinical_data/train\" --format raw_udd_hrt --data_files  train.txt valid.txt test.txt --neg_sample_size_eval 20"
   ]
  },
  {
   "cell_type": "markdown",
   "metadata": {
    "id": "Gp5YierJigu8"
   },
   "source": [
    "## 2. DistMult"
   ]
  },
  {
   "cell_type": "code",
   "execution_count": null,
   "metadata": {
    "colab": {
     "base_uri": "https://localhost:8080/"
    },
    "executionInfo": {
     "elapsed": 10559,
     "status": "ok",
     "timestamp": 1674286778312,
     "user": {
      "displayName": "Xiao Yongkang",
      "userId": "12452017724071314522"
     },
     "user_tz": 360
    },
    "id": "HmofMKxRigIx",
    "outputId": "1d5f9184-d1f9-4a74-c874-7e9e76133acb"
   },
   "outputs": [],
   "source": [
    "# Evaluate\n",
    "%%time\n",
    "!DGLBACKEND=pytorch dglke_eval --dataset ADintervKG --model_name DistMult \\\n",
    "--neg_sample_size 20 --hidden_dim 400 --gamma 19.9 \\\n",
    "--batch_size_eval 100 --gpu 0 --model_path \"/content/drive/Shareddrives/KG Project/KG Embedding (dgl-ke)/data/results/DistMult_ADintervKG_0/\" \\\n",
    "--data_path \"/content/drive/Shareddrives/KG Project/KG Embedding (dgl-ke)/clinical_data/train\" --format raw_udd_hrt --data_files train.txt valid.txt test.txt --neg_sample_size_eval 20"
   ]
  },
  {
   "cell_type": "markdown",
   "metadata": {
    "id": "AZMQmKcTike3"
   },
   "source": [
    "## 3. ComplEX"
   ]
  },
  {
   "cell_type": "code",
   "execution_count": null,
   "metadata": {
    "colab": {
     "base_uri": "https://localhost:8080/"
    },
    "executionInfo": {
     "elapsed": 9041,
     "status": "ok",
     "timestamp": 1674286787350,
     "user": {
      "displayName": "Xiao Yongkang",
      "userId": "12452017724071314522"
     },
     "user_tz": 360
    },
    "id": "PXy0ZgZ3igOU",
    "outputId": "33b45a83-d5de-49aa-9dd2-cd6a05c41f7a"
   },
   "outputs": [],
   "source": [
    "# Evaluate\n",
    "%%time\n",
    "!DGLBACKEND=pytorch dglke_eval --dataset ADintervKG --model_name ComplEx \\\n",
    "--neg_sample_size 20 --hidden_dim 400 --gamma 19.9 \\\n",
    "--batch_size_eval 100 --gpu 0 --model_path \"/content/drive/Shareddrives/KG Project/KG Embedding (dgl-ke)/data/results/ComplEx_ADintervKG_0/\" \\\n",
    "--data_path \"/content/drive/Shareddrives/KG Project/KG Embedding (dgl-ke)/clinical_data/train\" --format raw_udd_hrt --data_files train.txt valid.txt test.txt --neg_sample_size_eval 20"
   ]
  },
  {
   "cell_type": "markdown",
   "metadata": {
    "id": "rrUs-SQ6insu"
   },
   "source": [
    "## 4. RotatE"
   ]
  },
  {
   "cell_type": "code",
   "execution_count": null,
   "metadata": {
    "colab": {
     "base_uri": "https://localhost:8080/"
    },
    "executionInfo": {
     "elapsed": 10074,
     "status": "ok",
     "timestamp": 1674286912224,
     "user": {
      "displayName": "Xiao Yongkang",
      "userId": "12452017724071314522"
     },
     "user_tz": 360
    },
    "id": "cVy3dZhNinot",
    "outputId": "3ebce1f4-d498-42d7-9a6d-eee8b1f5506b"
   },
   "outputs": [],
   "source": [
    "# Evaluate\n",
    "%%time\n",
    "!DGLBACKEND=pytorch dglke_eval --dataset ADintervKG --model_name RotatE \\\n",
    "--neg_sample_size 20 --hidden_dim 400 --gamma 19.9 \\\n",
    "--batch_size_eval 100 --gpu 0 --model_path \"/content/drive/Shareddrives/KG Project/KG Embedding (dgl-ke)/data/results/RotatE_ADintervKG_0/\" \\\n",
    "--data_path \"/content/drive/Shareddrives/KG Project/KG Embedding (dgl-ke)/clinical_data/train\" --format raw_udd_hrt --data_files train.txt valid.txt test.txt --neg_sample_size_eval 20"
   ]
  }
 ],
 "metadata": {
  "accelerator": "GPU",
  "colab": {
   "provenance": []
  },
  "gpuClass": "standard",
  "kernelspec": {
   "display_name": "Python 3",
   "language": "python",
   "name": "python3"
  },
  "language_info": {
   "codemirror_mode": {
    "name": "ipython",
    "version": 3
   },
   "file_extension": ".py",
   "mimetype": "text/x-python",
   "name": "python",
   "nbconvert_exporter": "python",
   "pygments_lexer": "ipython3",
   "version": "3.9.1"
  }
 },
 "nbformat": 4,
 "nbformat_minor": 1
}
